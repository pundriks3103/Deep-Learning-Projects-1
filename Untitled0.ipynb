{
  "nbformat": 4,
  "nbformat_minor": 0,
  "metadata": {
    "colab": {
      "name": "Untitled0.ipynb",
      "provenance": [],
      "collapsed_sections": [],
      "include_colab_link": true
    },
    "kernelspec": {
      "name": "python3",
      "display_name": "Python 3"
    },
    "accelerator": "GPU"
  },
  "cells": [
    {
      "cell_type": "markdown",
      "metadata": {
        "id": "view-in-github",
        "colab_type": "text"
      },
      "source": [
        "<a href=\"https://colab.research.google.com/github/shubhamjain02/Deep-Learning-Projects/blob/master/Untitled0.ipynb\" target=\"_parent\"><img src=\"https://colab.research.google.com/assets/colab-badge.svg\" alt=\"Open In Colab\"/></a>"
      ]
    },
    {
      "cell_type": "markdown",
      "metadata": {
        "id": "TjIwQLgq5AZP",
        "colab_type": "text"
      },
      "source": [
        "# **Cat v/s Dog Classification**\n",
        "---\n",
        "**Problem Statement :** This is the very basic problem of classification of Images of two categories using the Deep Neural Networks.\n",
        "\n",
        "Image classification is the process of taking an input (like a picture) and outputting a class (like “cat”) or a probability that the input is a particular class (“there’s a 90% probability that this input is a cat”).\n",
        "\n",
        "The Dataset can be found easily on Kaggle or any other website. This dataset consists of 4000 Images each of Cat and Dog in the Training Set and 1000 Images each of Cat and Dog in the Test Set.\n"
      ]
    },
    {
      "cell_type": "markdown",
      "metadata": {
        "id": "mk4OXd0u9cWq",
        "colab_type": "text"
      },
      "source": [
        "Image Classification can be solved with the help of a Convolutional Neural Network, CNN. A CNN usually have:\n",
        "\n",
        "1. Convolutional Layers\n",
        "2. ReLU Layers\n",
        "3. Pooling Layers\n",
        "4. Fully connected Layers"
      ]
    },
    {
      "cell_type": "markdown",
      "metadata": {
        "id": "p6Emp4V967i2",
        "colab_type": "text"
      },
      "source": [
        "---\n",
        "### Uploading Dataset and Unzipping the Files\n",
        "\n",
        "---"
      ]
    },
    {
      "cell_type": "code",
      "metadata": {
        "id": "vYqMg0OeLThm",
        "colab_type": "code",
        "outputId": "cc1bef86-0dc6-4c6a-dc92-603f55c9632a",
        "colab": {
          "base_uri": "https://localhost:8080/",
          "height": 122
        }
      },
      "source": [
        "from google.colab import drive\n",
        "drive.mount('/content/drive')"
      ],
      "execution_count": 1,
      "outputs": [
        {
          "output_type": "stream",
          "text": [
            "Go to this URL in a browser: https://accounts.google.com/o/oauth2/auth?client_id=947318989803-6bn6qk8qdgf4n4g3pfee6491hc0brc4i.apps.googleusercontent.com&redirect_uri=urn%3aietf%3awg%3aoauth%3a2.0%3aoob&response_type=code&scope=email%20https%3a%2f%2fwww.googleapis.com%2fauth%2fdocs.test%20https%3a%2f%2fwww.googleapis.com%2fauth%2fdrive%20https%3a%2f%2fwww.googleapis.com%2fauth%2fdrive.photos.readonly%20https%3a%2f%2fwww.googleapis.com%2fauth%2fpeopleapi.readonly\n",
            "\n",
            "Enter your authorization code:\n",
            "··········\n",
            "Mounted at /content/drive\n"
          ],
          "name": "stdout"
        }
      ]
    },
    {
      "cell_type": "code",
      "metadata": {
        "id": "lsLtEXMhH7lZ",
        "colab_type": "code",
        "colab": {}
      },
      "source": [
        "#Unzipping the Files\n",
        "from zipfile import ZipFile\n",
        "file_name='/content/drive/My Drive/P16-Convolutional-Neural-Networks.zip'\n",
        "with ZipFile(file_name,'r') as zip:\n",
        "  zip.extractall()"
      ],
      "execution_count": 0,
      "outputs": []
    },
    {
      "cell_type": "markdown",
      "metadata": {
        "id": "VLlDSVH07IEb",
        "colab_type": "text"
      },
      "source": [
        "##**Steps of Solution :**\n",
        "\n",
        "1. Importing the required Libraries\n",
        "2. Image Augmentation\n",
        "3. Building the CNN Models.\n",
        "4. Fitting the CNN Models to the Images and finding their Accuracies.\n",
        "5. Saving the Best Model.\n",
        "6. Making Sample Predictions.\n",
        "\n",
        "\n",
        "\n",
        "> **Note :** This problem of Image Classification has no traditional **\"X\"** & **\"y\"** variables although the solution of the problem is a **supervised learning technique**. Here input X is the image itself and output y is the label \"Cat\" or \"Dog\". \n",
        "\n",
        "*   If the Dataset is already labeled and segregated as follows, then we can proceed to the solution directly.\n",
        "\n",
        "```\n",
        "dataset_dogs_vs_cats\n",
        "  ── test\n",
        "      ── cats    \n",
        "      ── dogs\n",
        "  ── train\n",
        "      ── cats\n",
        "      ── dogs\n",
        "```\n",
        "*   If the Dataset has just two folders, 'Train' and 'Test', each containing unlabeled images of cats and dogs, we first need to organise the data as the previous case. This can be simply done using the Keras Library.     "
      ]
    },
    {
      "cell_type": "markdown",
      "metadata": {
        "id": "Z7b1VIw37aCC",
        "colab_type": "text"
      },
      "source": [
        "---\n",
        "### Step 1. Importing the Libraries\n",
        "\n",
        "---"
      ]
    },
    {
      "cell_type": "code",
      "metadata": {
        "id": "TVgRgesC6saS",
        "colab_type": "code",
        "colab": {}
      },
      "source": [
        "import numpy as np\n",
        "from keras.models import Sequential # To initialise the Neural Network\n",
        "from keras.layers import Convolution2D # To add Convolutional Layers\n",
        "from keras.layers import MaxPooling2D # For Pooling Step\n",
        "from keras.layers import Flatten # For converting Pooled features to Matrix\n",
        "from keras.layers import Dense"
      ],
      "execution_count": 0,
      "outputs": []
    },
    {
      "cell_type": "markdown",
      "metadata": {
        "id": "PRr6UP_M5A6X",
        "colab_type": "text"
      },
      "source": [
        "---\n",
        "### Step 2. Image Augmentation\n",
        "\n",
        "---"
      ]
    },
    {
      "cell_type": "markdown",
      "metadata": {
        "id": "F0wUPiveUWNw",
        "colab_type": "text"
      },
      "source": [
        "To train a CNN model more accurately on the image dataset, we can either increase the number of images in the dataset or apply **Image Augmentation**.\n",
        "\n",
        "Image augmentation will create many batches of our images, and in each batch it will apply some random transformation on a random selection of the images, like rotation them, flipping them etc. ; and eventually we will get a large diversification in the batches, and therefore a lot of material to train.\n",
        "\n",
        "It can also act as a regularization technique, adding noise to the training data, and encouraging the model to learn the same features, invariant to their position in the input."
      ]
    },
    {
      "cell_type": "markdown",
      "metadata": {
        "id": "NNcS3WPu8Y9K",
        "colab_type": "text"
      },
      "source": [
        "**ImageDataGenerator** is used to scale the images (similar to feature scaling in ML). It is scaled by 255 because the values of pixels range from 0-255 for 8-bit data. \n",
        "\n",
        "**flow_from_directory** is used to convert all the images into same size of (64x64), and using batch size of 32 means the weights of neural network will be updated after traing on each batch of 32 images. "
      ]
    },
    {
      "cell_type": "code",
      "metadata": {
        "id": "2QFUy2PcDPaZ",
        "colab_type": "code",
        "outputId": "170830e2-6968-4329-9df2-8af9b975c2e5",
        "colab": {
          "base_uri": "https://localhost:8080/",
          "height": 51
        }
      },
      "source": [
        "from keras.preprocessing.image import ImageDataGenerator\n",
        "train_datagen = ImageDataGenerator(rescale = 1./255, shear_range = 0.2, zoom_range = 0.2, horizontal_flip = True)\n",
        "test_datagen = ImageDataGenerator(rescale = 1./255)\n",
        "training_set = train_datagen.flow_from_directory('/content/Convolutional_Neural_Networks/dataset/training_set', target_size = (64, 64), batch_size = 32, class_mode = 'binary')\n",
        "test_set = test_datagen.flow_from_directory('/content/Convolutional_Neural_Networks/dataset/test_set', target_size = (64, 64), batch_size = 32, class_mode = 'binary')"
      ],
      "execution_count": 6,
      "outputs": [
        {
          "output_type": "stream",
          "text": [
            "Found 8000 images belonging to 2 classes.\n",
            "Found 2000 images belonging to 2 classes.\n"
          ],
          "name": "stdout"
        }
      ]
    },
    {
      "cell_type": "markdown",
      "metadata": {
        "id": "OXpCwc-oBRlO",
        "colab_type": "text"
      },
      "source": [
        "---\n",
        "### Step 3. Building the CNN Models\n",
        "\n",
        "---"
      ]
    },
    {
      "cell_type": "markdown",
      "metadata": {
        "id": "5717X-Un-scP",
        "colab_type": "text"
      },
      "source": [
        "A CNN Model\n",
        "*   starts with an input image\n",
        "*   **Convolution Layer:** applies many different filters to it to create a feature map and applies a ReLU function to increase non-linearity.\n",
        "*   **Pooling Layer:** applies a pooling layer to each feature map.\n",
        "    \n",
        "    > The size of Pooling Layer is usually taken as 2x2 to avoid loosing features of the feature map. \n",
        "*   **Flattening Layer:** flattens the pooled images into one long vector.\n",
        "*   **Fully Connected Layer:** inputs the vector into a fully connected artificial neural network.\n",
        "*   processes the features through the network. The final fully connected layer provides the “voting” of the classes that we’re after.\n"
      ]
    },
    {
      "cell_type": "markdown",
      "metadata": {
        "id": "w5OdteM9DxCj",
        "colab_type": "text"
      },
      "source": [
        "    A CNN model may have many number of Convolutional Layers. Standard Procedure involves taking 32, (3x3) filters. \n",
        "\n",
        "The number of filters are increased as the number of Convolutional layers are increased."
      ]
    },
    {
      "cell_type": "code",
      "metadata": {
        "id": "V1j6P2C0G4eN",
        "colab_type": "code",
        "colab": {}
      },
      "source": [
        "# Single Convolution Layer CNN Model\n",
        "def cnn_model1():\n",
        "  classifier = Sequential()\n",
        "  classifier.add(Convolution2D(32, 3, 3, input_shape=(64, 64, 3), activation = 'relu'))\n",
        "  classifier.add(MaxPooling2D(pool_size = (2,2)))\n",
        "  classifier.add(Flatten())\n",
        "  classifier.add(Dense(units = 128, activation = 'relu'))\n",
        "  classifier.add(Dense(units = 1, activation = 'sigmoid'))\n",
        "  # Compiling the CNN\n",
        "  classifier.compile(optimizer = 'adam', loss = 'binary_crossentropy', metrics = ['accuracy'])\n",
        "  return classifier\n",
        "\n",
        "# Two Convolution Layer CNN Model\n",
        "def cnn_model2():\n",
        "  classifier = Sequential()\n",
        "  classifier.add(Convolution2D(32, 3, 3, input_shape=(64, 64, 3), activation = 'relu'))\n",
        "  classifier.add(MaxPooling2D(pool_size = (2,2)))\n",
        "  classifier.add(Convolution2D(64, 3, 3, input_shape=(64, 64, 3), activation = 'relu'))\n",
        "  classifier.add(MaxPooling2D(pool_size = (2,2)))\n",
        "  classifier.add(Flatten())\n",
        "  classifier.add(Dense(units = 128, activation = 'relu'))\n",
        "  classifier.add(Dense(units = 1, activation = 'sigmoid'))\n",
        "  # Compiling the CNN\n",
        "  classifier.compile(optimizer = 'adam', loss = 'binary_crossentropy', metrics = ['accuracy'])\n",
        "  return classifier\n",
        "\n",
        "# Three Convolution Layer CNN Model\n",
        "def cnn_model3():\n",
        "  classifier = Sequential()\n",
        "  classifier.add(Convolution2D(32, 3, 3, input_shape=(64, 64, 3), activation = 'relu'))\n",
        "  classifier.add(MaxPooling2D(pool_size = (2,2)))\n",
        "  classifier.add(Convolution2D(64, 3, 3, input_shape=(64, 64, 3), activation = 'relu'))\n",
        "  classifier.add(MaxPooling2D(pool_size = (2,2)))\n",
        "  classifier.add(Convolution2D(128, 3, 3, input_shape=(64, 64, 3), activation = 'relu'))\n",
        "  classifier.add(MaxPooling2D(pool_size = (2,2)))\n",
        "  classifier.add(Flatten())\n",
        "  classifier.add(Dense(units = 128, activation = 'relu'))\n",
        "  classifier.add(Dense(units = 1, activation = 'sigmoid'))\n",
        "  # Compiling the CNN\n",
        "  classifier.compile(optimizer = 'adam', loss = 'binary_crossentropy', metrics = ['accuracy'])\n",
        "  return classifier"
      ],
      "execution_count": 0,
      "outputs": []
    },
    {
      "cell_type": "markdown",
      "metadata": {
        "id": "6OmigMYV5a0O",
        "colab_type": "text"
      },
      "source": [
        "---\n",
        "### Step 4. Fitting the CNN Models to the Images and finding their Accuracies.\n",
        "\n",
        "---"
      ]
    },
    {
      "cell_type": "markdown",
      "metadata": {
        "id": "arRy-ZG4Dp7R",
        "colab_type": "text"
      },
      "source": [
        "A CNN trains through forward propagation and backpropagation for many, many epochs. This repeats until we have a well-defined neural network with trained weights and feature detectors."
      ]
    },
    {
      "cell_type": "code",
      "metadata": {
        "id": "NB-eCOgNLyfr",
        "colab_type": "code",
        "outputId": "b64c840c-811b-47c3-a17e-1e6d0a7aa8a9",
        "colab": {
          "base_uri": "https://localhost:8080/",
          "height": 119
        }
      },
      "source": [
        "# Fitting the CNN Model_1 to the images\n",
        "model1 = cnn_model1()\n",
        "accuracies1 = np.array(model1.fit_generator(training_set, steps_per_epoch = 8000, epochs = 2, validation_data = test_set, validation_steps = 2000))"
      ],
      "execution_count": 36,
      "outputs": [
        {
          "output_type": "stream",
          "text": [
            "/usr/local/lib/python3.6/dist-packages/ipykernel_launcher.py:3: UserWarning: Update your `Conv2D` call to the Keras 2 API: `Conv2D(32, (3, 3), input_shape=(64, 64, 3..., activation=\"relu\")`\n",
            "  This is separate from the ipykernel package so we can avoid doing imports until\n"
          ],
          "name": "stderr"
        },
        {
          "output_type": "stream",
          "text": [
            "Epoch 1/2\n",
            "8000/8000 [==============================] - 1037s 130ms/step - loss: 0.4563 - acc: 0.7798 - val_loss: 0.5500 - val_acc: 0.7665\n",
            "Epoch 2/2\n",
            "8000/8000 [==============================] - 1050s 131ms/step - loss: 0.2915 - acc: 0.8740 - val_loss: 0.7769 - val_acc: 0.7510\n"
          ],
          "name": "stdout"
        }
      ]
    },
    {
      "cell_type": "code",
      "metadata": {
        "id": "EM0mRZdf2R1T",
        "colab_type": "code",
        "colab": {
          "base_uri": "https://localhost:8080/",
          "height": 182
        },
        "outputId": "5cbbcb67-5a47-40cc-af02-8ce9c2e1d810"
      },
      "source": [
        "accuracy1 = np.mean(accuracies1.history['val_acc'])\n",
        "variance1 = np.std(accuracies1.history['val_acc'])"
      ],
      "execution_count": 37,
      "outputs": [
        {
          "output_type": "error",
          "ename": "AttributeError",
          "evalue": "ignored",
          "traceback": [
            "\u001b[0;31m---------------------------------------------------------------------------\u001b[0m",
            "\u001b[0;31mAttributeError\u001b[0m                            Traceback (most recent call last)",
            "\u001b[0;32m<ipython-input-37-ef346f84fc2f>\u001b[0m in \u001b[0;36m<module>\u001b[0;34m()\u001b[0m\n\u001b[0;32m----> 1\u001b[0;31m \u001b[0maccuracy1\u001b[0m \u001b[0;34m=\u001b[0m \u001b[0mnp\u001b[0m\u001b[0;34m.\u001b[0m\u001b[0mmean\u001b[0m\u001b[0;34m(\u001b[0m\u001b[0maccuracies1\u001b[0m\u001b[0;34m.\u001b[0m\u001b[0mhistory\u001b[0m\u001b[0;34m[\u001b[0m\u001b[0;34m'val_acc'\u001b[0m\u001b[0;34m]\u001b[0m\u001b[0;34m)\u001b[0m\u001b[0;34m\u001b[0m\u001b[0;34m\u001b[0m\u001b[0m\n\u001b[0m\u001b[1;32m      2\u001b[0m \u001b[0mvariance1\u001b[0m \u001b[0;34m=\u001b[0m \u001b[0mnp\u001b[0m\u001b[0;34m.\u001b[0m\u001b[0mstd\u001b[0m\u001b[0;34m(\u001b[0m\u001b[0maccuracies1\u001b[0m\u001b[0;34m.\u001b[0m\u001b[0mhistory\u001b[0m\u001b[0;34m[\u001b[0m\u001b[0;34m'val_acc'\u001b[0m\u001b[0;34m]\u001b[0m\u001b[0;34m)\u001b[0m\u001b[0;34m\u001b[0m\u001b[0;34m\u001b[0m\u001b[0m\n",
            "\u001b[0;31mAttributeError\u001b[0m: 'numpy.ndarray' object has no attribute 'history'"
          ]
        }
      ]
    },
    {
      "cell_type": "code",
      "metadata": {
        "id": "Rp-ZFpUrcqWY",
        "colab_type": "code",
        "colab": {
          "base_uri": "https://localhost:8080/",
          "height": 136
        },
        "outputId": "ff7ae9a3-1746-495d-9ba3-c139dab8039a"
      },
      "source": [
        "# Fitting the CNN Model_2 to the images\n",
        "model2 = cnn_model2()\n",
        "accuracies2 = model2.fit_generator(training_set, steps_per_epoch = 8000, epochs = 2, validation_data = test_set, validation_steps = 2000)"
      ],
      "execution_count": 32,
      "outputs": [
        {
          "output_type": "stream",
          "text": [
            "/usr/local/lib/python3.6/dist-packages/ipykernel_launcher.py:15: UserWarning: Update your `Conv2D` call to the Keras 2 API: `Conv2D(32, (3, 3), input_shape=(64, 64, 3..., activation=\"relu\")`\n",
            "  from ipykernel import kernelapp as app\n",
            "/usr/local/lib/python3.6/dist-packages/ipykernel_launcher.py:17: UserWarning: Update your `Conv2D` call to the Keras 2 API: `Conv2D(64, (3, 3), input_shape=(64, 64, 3..., activation=\"relu\")`\n"
          ],
          "name": "stderr"
        },
        {
          "output_type": "stream",
          "text": [
            "Epoch 1/2\n",
            "8000/8000 [==============================] - 1041s 130ms/step - loss: 0.3485 - acc: 0.8373 - val_loss: 0.6878 - val_acc: 0.7876\n",
            "Epoch 2/2\n",
            "8000/8000 [==============================] - 996s 124ms/step - loss: 0.0895 - acc: 0.9669 - val_loss: 1.0318 - val_acc: 0.8000\n"
          ],
          "name": "stdout"
        }
      ]
    },
    {
      "cell_type": "code",
      "metadata": {
        "id": "RAKyqV8d2nhT",
        "colab_type": "code",
        "colab": {}
      },
      "source": [
        "accuracy2 = np.mean(accuracies2.history['val_acc'])\n",
        "variance2 = np.std(accuracies2.history['val_acc'])"
      ],
      "execution_count": 0,
      "outputs": []
    },
    {
      "cell_type": "code",
      "metadata": {
        "id": "OLfFTQSGcq8y",
        "colab_type": "code",
        "colab": {
          "base_uri": "https://localhost:8080/",
          "height": 136
        },
        "outputId": "6a0b3059-65fd-465e-e096-fb7f25f3da78"
      },
      "source": [
        "# Fitting the CNN Model_3 to the images\n",
        "model3 = cnn_model3()\n",
        "accuracies3 = model3.fit_generator(training_set, steps_per_epoch = 8000, epochs = 2, validation_data = test_set, validation_steps = 2000)"
      ],
      "execution_count": 34,
      "outputs": [
        {
          "output_type": "stream",
          "text": [
            "/usr/local/lib/python3.6/dist-packages/ipykernel_launcher.py:29: UserWarning: Update your `Conv2D` call to the Keras 2 API: `Conv2D(32, (3, 3), input_shape=(64, 64, 3..., activation=\"relu\")`\n",
            "/usr/local/lib/python3.6/dist-packages/ipykernel_launcher.py:31: UserWarning: Update your `Conv2D` call to the Keras 2 API: `Conv2D(64, (3, 3), input_shape=(64, 64, 3..., activation=\"relu\")`\n",
            "/usr/local/lib/python3.6/dist-packages/ipykernel_launcher.py:33: UserWarning: Update your `Conv2D` call to the Keras 2 API: `Conv2D(128, (3, 3), input_shape=(64, 64, 3..., activation=\"relu\")`\n"
          ],
          "name": "stderr"
        },
        {
          "output_type": "stream",
          "text": [
            "Epoch 1/2\n",
            "8000/8000 [==============================] - 1006s 126ms/step - loss: 0.3282 - acc: 0.8453 - val_loss: 0.5719 - val_acc: 0.8121\n",
            "Epoch 2/2\n",
            "8000/8000 [==============================] - 1027s 128ms/step - loss: 0.0941 - acc: 0.9641 - val_loss: 0.6548 - val_acc: 0.8457\n"
          ],
          "name": "stdout"
        }
      ]
    },
    {
      "cell_type": "code",
      "metadata": {
        "id": "zZEDZggd2y2G",
        "colab_type": "code",
        "colab": {}
      },
      "source": [
        "accuracy3 = np.mean(accuracies3.history['val_acc'])\n",
        "variance3 = np.std(accuracies3.history['val_acc'])"
      ],
      "execution_count": 0,
      "outputs": []
    },
    {
      "cell_type": "markdown",
      "metadata": {
        "id": "IqNIlDEUe_Kb",
        "colab_type": "text"
      },
      "source": [
        "> **Comparison of Results**"
      ]
    },
    {
      "cell_type": "code",
      "metadata": {
        "id": "oZMcoNmpe9YW",
        "colab_type": "code",
        "colab": {
          "base_uri": "https://localhost:8080/",
          "height": 119
        },
        "outputId": "5eb26c02-6bb1-47ec-d413-89bfbad385dc"
      },
      "source": [
        "from prettytable import PrettyTable\n",
        "t = PrettyTable(['Name: CNN with-', '1 Convolution Layer', '2 Convolution Layer', '3 Convolution Layer'])\n",
        "t.add_row(['Accuracy', accuracy1, accuracy2, accuracy3])\n",
        "t.add_row(['variance', variance1, variance2, variance3])\n",
        "print(t)"
      ],
      "execution_count": 38,
      "outputs": [
        {
          "output_type": "stream",
          "text": [
            "+-----------------+----------------------+----------------------+---------------------+\n",
            "| Name: CNN with- | 1 Convolution Layer  | 2 Convolution Layer  | 3 Convolution Layer |\n",
            "+-----------------+----------------------+----------------------+---------------------+\n",
            "|     Accuracy    |  0.7201931150293871  |  0.7938066945014639  |  0.8288811019619542 |\n",
            "|     variance    | 0.030590843035341226 | 0.006234258119503788 | 0.01680627202998136 |\n",
            "+-----------------+----------------------+----------------------+---------------------+\n"
          ],
          "name": "stdout"
        }
      ]
    },
    {
      "cell_type": "markdown",
      "metadata": {
        "id": "O49f7NzQ5tj0",
        "colab_type": "text"
      },
      "source": [
        "---\n",
        "### Step 5. Saving the Best Model\n",
        "\n",
        "---"
      ]
    },
    {
      "cell_type": "code",
      "metadata": {
        "id": "CmJ120kJbBlC",
        "colab_type": "code",
        "colab": {}
      },
      "source": [
        "import pickle\n",
        "pickle.dump(model3, open('model.pkl','wb'))"
      ],
      "execution_count": 0,
      "outputs": []
    },
    {
      "cell_type": "markdown",
      "metadata": {
        "id": "uRBEYwFh51ca",
        "colab_type": "text"
      },
      "source": [
        "---\n",
        "### Step 6. Making Sample Predictions\n",
        "\n",
        "---"
      ]
    },
    {
      "cell_type": "code",
      "metadata": {
        "id": "73dRbnY6MJ4I",
        "colab_type": "code",
        "colab": {}
      },
      "source": [
        "import numpy as np\n",
        "from keras.preprocessing import image\n",
        "test_image = image.load_img('/content/Convolutional_Neural_Networks/dataset/single_prediction/cat_or_dog_1.jpg', target_size = (64, 64))\n",
        "actual_test_image = test_image\n",
        "test_image = image.img_to_array(test_image)\n",
        "test_image = np.expand_dims(test_image, axis = 0)\n",
        "result = model3.predict(test_image)\n",
        "training_set.class_indices\n",
        "if result[0][0] == 1:\n",
        "    prediction = 'dog'\n",
        "else:\n",
        "    prediction = 'cat'"
      ],
      "execution_count": 0,
      "outputs": []
    },
    {
      "cell_type": "code",
      "metadata": {
        "id": "hxVtt1AIOtN_",
        "colab_type": "code",
        "outputId": "00481873-8226-4d51-c5ee-2c3b081cdc57",
        "colab": {
          "base_uri": "https://localhost:8080/",
          "height": 98
        }
      },
      "source": [
        "# Viewing the Actual Test Image\n",
        "print(\"The actual image is :-\")\n",
        "actual_test_image"
      ],
      "execution_count": 41,
      "outputs": [
        {
          "output_type": "stream",
          "text": [
            "The actual image is :-\n"
          ],
          "name": "stdout"
        },
        {
          "output_type": "execute_result",
          "data": {
            "image/png": "[encoded data removed]",
            "text/plain": [
              "<PIL.Image.Image image mode=RGB size=64x64 at 0x7F6FF8831FD0>"
            ]
          },
          "metadata": {
            "tags": []
          },
          "execution_count": 41
        }
      ]
    },
    {
      "cell_type": "code",
      "metadata": {
        "id": "XWeUF0xJOv6l",
        "colab_type": "code",
        "outputId": "ae8e4b21-8673-4f37-f4c6-7468949898e3",
        "colab": {
          "base_uri": "https://localhost:8080/",
          "height": 34
        }
      },
      "source": [
        "# Viewing the Prediction\n",
        "print(\"The predicted image is a\", prediction)"
      ],
      "execution_count": 42,
      "outputs": [
        {
          "output_type": "stream",
          "text": [
            "The predicted image is a dog\n"
          ],
          "name": "stdout"
        }
      ]
    }
  ]
}